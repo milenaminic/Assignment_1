{
 "cells": [
  {
   "cell_type": "markdown",
   "metadata": {
    "tags": [
     "parameters"
    ]
   },
   "source": [
    "CODING PROBLEMS"
   ]
  },
  {
   "cell_type": "markdown",
   "metadata": {
    "tags": [
     "parameters"
    ]
   },
   "source": [
    "1. Create a program that reads two integers, **a** and *b*, from the user. Your program should compute and display:\n",
    "    1. The sum of **a** and **b.**\n",
    "    2. The difference when **b** is subtracted from *a*\n",
    "    3. The product of **a** and *b*\n",
    "    4. The quotient when **a** is divided by *b*\n",
    "    5. The remainder when **a** is divided by *b*\n",
    "    6. The result of $log_{10}a$\n",
    "    7. The result of $a^b$\n",
    "    \n",
    "    ****************************Hint: ***The `math` module may contain some advanced mathematical operations. Also you can use the python inbuilt `input()` command to receive input from the user.*"
   ]
  },
  {
   "cell_type": "code",
   "execution_count": null,
   "metadata": {},
   "outputs": [
    {
     "name": "stdout",
     "output_type": "stream",
     "text": [
      "Sum of a and b is 12\n"
     ]
    }
   ],
   "source": [
    "a=int(input())\n",
    "b=int(input())\n",
    "sum=a+b\n",
    "print(\"Sum of a and b is\", sum)\n"
   ]
  },
  {
   "cell_type": "code",
   "execution_count": 14,
   "metadata": {},
   "outputs": [],
   "source": [
    "a=int(input())\n",
    "b=int(input())\n",
    "sub=a-b\n",
    "print(\"The difference when b is subtracted from a is\", sub)"
   ]
  },
  {
   "cell_type": "code",
   "execution_count": null,
   "metadata": {},
   "outputs": [
    {
     "name": "stdout",
     "output_type": "stream",
     "text": [
      "The product of a and b is 10\n"
     ]
    }
   ],
   "source": [
    "a=int(input())\n",
    "b=int(input())\n",
    "product=a*b\n",
    "print(\"The product of a and b is\", product)"
   ]
  },
  {
   "cell_type": "code",
   "execution_count": null,
   "metadata": {},
   "outputs": [
    {
     "name": "stdout",
     "output_type": "stream",
     "text": [
      "The quotient when a is divided by b is 5.0\n"
     ]
    }
   ],
   "source": [
    "a=int(input())\n",
    "b=int(input())\n",
    "quot=a/b\n",
    "print(\"The quotient when a is divided by b is\", quot)"
   ]
  },
  {
   "cell_type": "code",
   "execution_count": null,
   "metadata": {},
   "outputs": [
    {
     "name": "stdout",
     "output_type": "stream",
     "text": [
      "The remainder when a is divided by b is 1\n"
     ]
    }
   ],
   "source": [
    "a=int(input())\n",
    "b=int(input())\n",
    "rem=a%b\n",
    "print(\"The remainder when a is divided by b is\", rem)"
   ]
  },
  {
   "cell_type": "code",
   "execution_count": null,
   "metadata": {},
   "outputs": [],
   "source": [
    "a=int(input())\n",
    "b=int(input())\n",
    "quot=a/b\n",
    "print(\"The quotient when a is divided by b is\", quot)"
   ]
  },
  {
   "cell_type": "code",
   "execution_count": 3,
   "metadata": {},
   "outputs": [
    {
     "name": "stdout",
     "output_type": "stream",
     "text": [
      "1.0\n"
     ]
    }
   ],
   "source": [
    "import math\n",
    "a=int(input())\n",
    "print(math.log10(a))"
   ]
  },
  {
   "cell_type": "code",
   "execution_count": 4,
   "metadata": {},
   "outputs": [
    {
     "name": "stdout",
     "output_type": "stream",
     "text": [
      "The squere is 27\n"
     ]
    }
   ],
   "source": [
    "a=int(input())\n",
    "b=int(input())\n",
    "square=a**b\n",
    "print(\"The squere is\", square)"
   ]
  },
  {
   "cell_type": "markdown",
   "metadata": {
    "tags": [
     "parameters"
    ]
   },
   "source": [
    "2. In the US, fuel efficiency for vehicles is normally expressed in miles-per-gallon (*MPG*). In Canada, fuel efficiency is normally expressed in liters-per-hundred-kilometers *(L/100 km)*. Use your research skills to determine how to convert from *MPG* to *L/100 km*. Then create a program that reads a value from the user (in American units) and displays the equivalent fuel efficiency in Canadian units.\n",
    "    \n",
    "    ************Hint:************ ********************You can use google to research and use both the `input()` command to receive user input and the `print()` command to return results to the console or the terminal.*"
   ]
  },
  {
   "cell_type": "code",
   "execution_count": 1,
   "metadata": {},
   "outputs": [
    {
     "name": "stdout",
     "output_type": "stream",
     "text": [
      "5.0 miles-per-gallon are equivalent 47.042 L/100km\n"
     ]
    }
   ],
   "source": [
    "mpg=float(input())\n",
    "liters_per_hund_km= 235.21/mpg\n",
    "print(mpg, \"miles-per-gallon are equivalent\", liters_per_hund_km, \"L/100km\")"
   ]
  },
  {
   "cell_type": "markdown",
   "metadata": {
    "tags": [
     "parameters"
    ]
   },
   "source": [
    "3. The surface of the earth is curved, and the distance between degrees of longitude varies with latitude. As a result, finding the distance between two points on the surface of the earth is more complicated than simply using the Pythagorean theorem. The equation for finding the distance between two points on the surface of the earth in kilometers is given by:\n",
    "    $distance = 6371.01 \\times arccos(sin(lat_1) \\times sin(lat_2)+cos(lat_1)\\times cos(lat_2)\\times cos(long_1-long_2))$\n",
    "     where: $(lat_1, long_1)$ and $(lat_2,long_2)$  are the latitude and longitude of two points on the Earth’s surface. \n",
    "    Create a program that allows the user to enter the latitude and longitude of two points on the Earth in degrees. Your program should display the distance between the points in kilometers.\n",
    "    Also assuming we travel using an aeroplane that is moving at a minimum speed of `740 km/h` how long will it take us to travel that distance?\n",
    "    ************Hint:************ ****************Allow your program receive 4 user inputs for 4 different latitudes and longitudes on the earth. Choose any 2 locations using google maps (or google search) and get their latitude and longitude values. When printing the outputs, use the names of the locations to display the distance between locations. Longitude and latitude values are usually shown in degrees, while python usually calculates trigonometric functions using radians, therefore you will need to first convert the values to radians to use in the equation. Precedence of operations is important. Use `math` module*"
   ]
  },
  {
   "cell_type": "code",
   "execution_count": 1,
   "metadata": {},
   "outputs": [
    {
     "name": "stdout",
     "output_type": "stream",
     "text": [
      "11864.01047368824\n"
     ]
    }
   ],
   "source": [
    "import math                  #degrees = radian * (180° / pi)\n",
    "                             #a float value, representing the value in degrees\n",
    "lat1=float(input())         \n",
    "long1=float(input())\n",
    "lat2=float(input())\n",
    "long2=float(input())\n",
    "\n",
    "\n",
    "lat1_r= math.degrees(lat1)   #converting into radians because distance f-cion (with sin, cos etc) uses radians as inputs\n",
    "long1_r=math.degrees(long1)\n",
    "lat2_r=math.degrees(lat2)\n",
    "long2_r=math.radians(long2)\n",
    "\n",
    "distance=6371.01*math.acos((math.sin(lat1_r)*math.sin(lat2_r)+math.cos(lat1_r)*math.cos(lat2_r)*math.cos(long1_r-long2_r)))\n",
    "\n",
    "print(distance)\n"
   ]
  },
  {
   "cell_type": "markdown",
   "metadata": {
    "tags": [
     "parameters"
    ]
   },
   "source": [
    "4. Distance units: Create a program that begins by reading a measurement from the user in feet. Then your program should display the equivalent distance in inches, yards and miles. Use your research skills to look up the necessary conversion factors.\n",
    "    \n",
    "    ************Hint:************ ******************Use the `input()` function, but add a little spice to it, by displaying a prompt for the user to understand they are inputting a value in feet.*\n",
    "    "
   ]
  },
  {
   "cell_type": "code",
   "execution_count": 2,
   "metadata": {},
   "outputs": [],
   "source": [
    "distance_feet = int(input(\"distance in feet: \"))\n",
    "distance_inches = distance_feet * 12\n",
    "distance_yards = distance_feet / 3.0\n",
    "distance_miles = distance_feet / 5280.0\n",
    " \n",
    "print(\"The distance in inches is %i inches.\" % distance_inches)\n",
    "print(\"The distance in yards is %.2f yards.\" % distance_yards)\n",
    "print(\"The distance in miles is %.2f miles.\" % distance_miles)\n"
   ]
  },
  {
   "cell_type": "markdown",
   "metadata": {
    "tags": [
     "parameters"
    ]
   },
   "source": [
    "5. Area of a regular polygon: A polygon is regular if its sides are all the same length and the angles between all of the adjacent sides are equal. The area of a regular polygon can be computed using the following formula, where ***s*** is the length of a side and ***n*** is the number of sides.\n",
    "    \n",
    "    $\\boxed{area = \\frac {n \\times s^2} {4 \\times \\tan (\\frac{\\pi}{n})} }$\n",
    "    \n",
    "    Write a program that reads ***s*** and ***n*** from the user and then displays the area of a regular polygon constructed from these values."
   ]
  },
  {
   "cell_type": "code",
   "execution_count": null,
   "metadata": {},
   "outputs": [
    {
     "name": "stdout",
     "output_type": "stream",
     "text": [
      "Area of a regular polygon is 204.34008600150773\n"
     ]
    }
   ],
   "source": [
    "import math\n",
    "\n",
    "n=int(input(\"the number of sides: \"))\n",
    "s=float(input(\"the length of a side: \"))\n",
    "\n",
    "area= n*(s**2)/4*math.tan(math.pi/n)\n",
    "\n",
    "print(\"Area of a regular polygon is\", area)\n",
    "\n",
    "\n"
   ]
  },
  {
   "cell_type": "markdown",
   "metadata": {
    "tags": [
     "parameters"
    ]
   },
   "source": [
    "6. Current Time: Python has a couple of modules that can be used when working with time. This includes a module called `time` and a function/method within the `time` module called `asctime`. It reads the current time from the computer’s internal clock and returns it in a human-readable format. Write a program that displays the current time and date. Your program will not require any input from the user.\n",
    "    \n",
    "    ************Hint:************ **import `time` to your working environment/kernel and explore all functions within the time module.*\n"
   ]
  },
  {
   "cell_type": "code",
   "execution_count": null,
   "metadata": {},
   "outputs": [
    {
     "name": "stdout",
     "output_type": "stream",
     "text": [
      "2022-11-18 15:04:44.686501\n"
     ]
    }
   ],
   "source": [
    "from datetime import datetime\n",
    "\n",
    "current_datatime= datetime.now()\n",
    "print(current_datatime)"
   ]
  },
  {
   "cell_type": "markdown",
   "metadata": {
    "tags": [
     "parameters"
    ]
   },
   "source": [
    "7. Wind Chill Index: When the wind blows in cold weather, the air feels even colder that it actually is because the movement of the air increases the rate of cooling for warm objects, like people. This effect is known as wind chill.\n",
    "    \n",
    "    The formula below is used to compute the wind chill index. \n",
    "    \n",
    "    $WCI = 13.12 + 0.6215T_a - 11.37V^{0.16}+0.3965T_aV^{0.16}$\n",
    "    \n",
    "    Where: $T_a$ is the air temperature in degrees Celsius and $V$ is the wind speed in kilometers per hour. Write a program that begins by reading the air temperature and wind speed from the user. Once these values have been read, your program should display the wind chill index rounded to the closes integer.\n",
    "    \n",
    "    ************Hint:************ ********************************************************Use the `round()` python inbuilt function to round values to a determinate number of decimal places.*"
   ]
  },
  {
   "cell_type": "code",
   "execution_count": null,
   "metadata": {},
   "outputs": [
    {
     "name": "stdout",
     "output_type": "stream",
     "text": [
      "the wind chill index is  26.08\n"
     ]
    }
   ],
   "source": [
    "Ta=float(input(\"temperature in degrees C is \"))\n",
    "V=float(input(\"wind speed in km/h id \"))\n",
    "\n",
    "WCI= round(13.12+0.6215*Ta-11.37* V**0.16 +0.3965* Ta* V**0.16, 2)\n",
    "\n",
    "print(\"The wind chill index is \", WCI)"
   ]
  },
  {
   "cell_type": "markdown",
   "metadata": {
    "tags": [
     "parameters"
    ]
   },
   "source": [
    "8. **********************************************TEASER/BONUS QUESTION:********************************************** Sum of digits in an integer: Develop a program that reads a four digit integer from the user and displays the sum of the digits in the number. For example, if the user enters 3141 then your program should display the result of the sum $3+1+4+1=9$.\n",
    "    \n",
    "    ************Hint:************ ***************************Type conversion, string split operation, python sum operation.***************************"
   ]
  },
  {
   "cell_type": "code",
   "execution_count": null,
   "metadata": {},
   "outputs": [
    {
     "name": "stdout",
     "output_type": "stream",
     "text": [
      "The sum of digits are 16\n"
     ]
    }
   ],
   "source": [
    "string=input(\"enter a four digits\")\n",
    "\n",
    "my_list=[int(x) for x in str(string)]\n",
    "\n",
    "sum=0\n",
    "for i in my_list:\n",
    "    sum+=i\n",
    "\n",
    "print(\"The sum of digits are\",sum)"
   ]
  }
 ],
 "metadata": {
  "kernelspec": {
   "display_name": "Python 3.10.4 64-bit",
   "language": "python",
   "name": "python3"
  },
  "language_info": {
   "codemirror_mode": {
    "name": "ipython",
    "version": 3
   },
   "file_extension": ".py",
   "mimetype": "text/x-python",
   "name": "python",
   "nbconvert_exporter": "python",
   "pygments_lexer": "ipython3",
   "version": "3.10.4"
  },
  "orig_nbformat": 4,
  "vscode": {
   "interpreter": {
    "hash": "27aa3604d76da265d88562b1df6f81676925551089475ab1c18a6d80ffb5179c"
   }
  }
 },
 "nbformat": 4,
 "nbformat_minor": 2
}
