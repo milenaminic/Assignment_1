{
 "cells": [
  {
   "cell_type": "markdown",
   "metadata": {
    "tags": [
     "parameters"
    ]
   },
   "source": [
    "1.\tUsing problem 3 in week 1, write functions for the following:\n",
    "    1.\tCollecting the inputs for the problem. Convert the inputs to the relevant types they should be.\n",
    "    2.\tCalculating the equation given the inputs from the above.\n",
    "    3.\tPrinting your result in a preformatted string.\n",
    "    \n",
    "    Ensure to include a main program that reads the values from the user."
   ]
  },
  {
   "cell_type": "markdown",
   "metadata": {},
   "source": [
    "    3. The surface of the earth is curved, and the distance between degrees of longitude varies with latitude. As a result, finding the distance between two points on the surface of the earth is more complicated than simply using the Pythagorean theorem. The equation for finding the distance between two points on the surface of the earth in kilometers is given by:\n",
    "    $distance = 6371.01 \\times arccos(sin(lat_1) \\times sin(lat_2)+cos(lat_1)\\times cos(lat_2)\\times cos(long_1-long_2))$\n",
    "    where: $(lat_1, long_1)$ and $(lat_2,long_2)$  are the latitude and longitude of two points on the Earth’s surface. \n",
    "    Create a program that allows the user to enter the latitude and longitude of two points on the Earth in degrees. Your program should display the distance between the points in kilometers."
   ]
  },
  {
   "cell_type": "code",
   "execution_count": 343,
   "metadata": {},
   "outputs": [
    {
     "ename": "ValueError",
     "evalue": "could not convert string to float: ''",
     "output_type": "error",
     "traceback": [
      "\u001b[1;31m---------------------------------------------------------------------------\u001b[0m",
      "\u001b[1;31mValueError\u001b[0m                                Traceback (most recent call last)",
      "Cell \u001b[1;32mIn [343], line 21\u001b[0m\n\u001b[0;32m     18\u001b[0m     \u001b[39mprint\u001b[39m(\u001b[39mf\u001b[39m\u001b[39m\"\u001b[39m\u001b[39mThe latitude and longitude from the 2nd point are: \u001b[39m\u001b[39m{\u001b[39;00mlat2_r\u001b[39m}\u001b[39;00m\u001b[39m and \u001b[39m\u001b[39m{\u001b[39;00mlong2_r\u001b[39m}\u001b[39;00m\u001b[39m\"\u001b[39m)\n\u001b[0;32m     19\u001b[0m     \u001b[39mprint\u001b[39m(\u001b[39mf\u001b[39m\u001b[39m\"\u001b[39m\u001b[39mThe distance between the points is: \u001b[39m\u001b[39m{\u001b[39;00mdistance\u001b[39m}\u001b[39;00m\u001b[39m kilometers\u001b[39m\u001b[39m\"\u001b[39m)\n\u001b[1;32m---> 21\u001b[0m a, b, c, d \u001b[39m=\u001b[39m collect_inputs()\n\u001b[0;32m     22\u001b[0m distance \u001b[39m=\u001b[39m distance_fction(a, b, c, d)\n\u001b[0;32m     23\u001b[0m printing_results(a, b, c, d, distance)\n",
      "Cell \u001b[1;32mIn [343], line 3\u001b[0m, in \u001b[0;36mcollect_inputs\u001b[1;34m()\u001b[0m\n\u001b[0;32m      2\u001b[0m \u001b[39mdef\u001b[39;00m \u001b[39mcollect_inputs\u001b[39m ():\n\u001b[1;32m----> 3\u001b[0m     lat1_r\u001b[39m=\u001b[39m math\u001b[39m.\u001b[39mradians(\u001b[39mfloat\u001b[39;49m(\u001b[39minput\u001b[39;49m(\u001b[39m\"\u001b[39;49m\u001b[39mPlease enter latitude 1:\u001b[39;49m\u001b[39m\"\u001b[39;49m)))   \u001b[39m#converting into radians because distance f-cion (with sin, cos etc) uses radians as inputs\u001b[39;00m\n\u001b[0;32m      4\u001b[0m     long1_r\u001b[39m=\u001b[39mmath\u001b[39m.\u001b[39mradians(\u001b[39mfloat\u001b[39m(\u001b[39minput\u001b[39m(\u001b[39m\"\u001b[39m\u001b[39mPlease enter longitude 1:\u001b[39m\u001b[39m\"\u001b[39m)))\n\u001b[0;32m      5\u001b[0m     lat2_r\u001b[39m=\u001b[39mmath\u001b[39m.\u001b[39mradians(\u001b[39mfloat\u001b[39m(\u001b[39minput\u001b[39m(\u001b[39m\"\u001b[39m\u001b[39mPlease enter latitude 2:\u001b[39m\u001b[39m\"\u001b[39m)))\n",
      "\u001b[1;31mValueError\u001b[0m: could not convert string to float: ''"
     ]
    }
   ],
   "source": [
    "import math\n",
    "def collect_inputs ():\n",
    "    lat1_r= math.radians(float(input(\"Please enter latitude 1:\")))   #converting into radians because distance f-cion (with sin, cos etc) uses radians as inputs\n",
    "    long1_r=math.radians(float(input(\"Please enter longitude 1:\")))\n",
    "    lat2_r=math.radians(float(input(\"Please enter latitude 2:\")))\n",
    "    long2_r=math.radians(float(input(\"Please enter longitude 2:\")))\n",
    "    return(lat1_r,long1_r,lat2_r,long2_r)\n",
    "\n",
    "\n",
    "def distance_fction (lat1_r,long1_r,lat2_r,long2_r):\n",
    "\n",
    "    distance=6371.01*math.acos((math.sin(lat1_r)*math.sin(lat2_r)+math.cos(lat1_r)*math.cos(lat2_r)*math.cos(long1_r-long2_r)))\n",
    "    return distance\n",
    "\n",
    "\n",
    "def printing_results(lat1_r,long1_r,lat2_r,long2_r, distance):\n",
    "    print(f\"The latitude and longitude from the 1st point are: {lat1_r} and {long1_r}\")\n",
    "    print(f\"The latitude and longitude from the 2nd point are: {lat2_r} and {long2_r}\")\n",
    "    print(f\"The distance between the points is: {distance} kilometers\")\n",
    "\n",
    "a, b, c, d = collect_inputs()\n",
    "distance = distance_fction(a, b, c, d)\n",
    "printing_results(a, b, c, d, distance)\n",
    "\n",
    "\n",
    "\n",
    "\n"
   ]
  },
  {
   "cell_type": "markdown",
   "metadata": {
    "tags": [
     "parameters"
    ]
   },
   "source": [
    "2.\tWrite a function that takes three numbers as parameters, and returns the mean value of those parameters as its result. Include a main program that reads three values from the user and displays their mean."
   ]
  },
  {
   "cell_type": "code",
   "execution_count": null,
   "metadata": {},
   "outputs": [
    {
     "data": {
      "text/plain": [
       "6.0"
      ]
     },
     "execution_count": 291,
     "metadata": {},
     "output_type": "execute_result"
    }
   ],
   "source": [
    "def mean_value(x, y, z):\n",
    "    mean=(x+y+z)/3\n",
    "    return mean\n",
    "mean_value(5,3,10)    "
   ]
  },
  {
   "cell_type": "markdown",
   "metadata": {},
   "source": [
    "3.\tOnly the words: Create a program that identifies all of the words in a string entered by a user. Begin by writing a function that takes a string of text as its only parameter. Your function should return a list of the words in the string with the punctuation marks removed. Punctuation marks include commas, periods, question marks, hyphens, apostrophes, exclamation points, colons, and semicolons.\n",
    "Hint: String Operations\n"
   ]
  },
  {
   "cell_type": "code",
   "execution_count": null,
   "metadata": {},
   "outputs": [
    {
     "name": "stdout",
     "output_type": "stream",
     "text": [
      "['Only', 'the', 'words', 'Create', 'a', 'program', 'that', 'identifies', 'all', 'of', 'the', 'words', 'in', 'a', 'string', 'entered', 'by', 'a', 'user', 'Begin', 'by', 'writing', 'a', 'function', 'that', 'takes', 'a', 'string', 'of', 'text', 'as', 'its', 'only', 'parameter', 'Your', 'function', 'should', 'return', 'a', 'list', 'of', 'the', 'words', 'in', 'the', 'string', 'with', 'the', 'punctuation', 'marks', 'removed', 'Punctuation', 'marks', 'include', 'commas', 'periods', 'question', 'marks', 'hyphens', 'apostrophes', 'exclamation', 'points', 'colons', 'and', 'semicolons']\n"
     ]
    }
   ],
   "source": [
    "text=\"Only the words: Create() a program that identifies all of! the words in a string entered by a user. Begin by writing a function that takes a string of text as its only parameter. Your function should return a list of the words in the string with the punctuation marks removed. Punctuation marks include commas, periods, question marks, hyphens, apostrophes, exclamation points, colons, and semicolons\"\n",
    "\n",
    "\n",
    "punc = '''!()-[]{};:'\"\\,<>./?@#$%^&*_~'''\n",
    "for word in text:\n",
    "    if word in punc:\n",
    "        text=text.replace(word,\"\")\n",
    "        new_text=text.split()\n",
    "\n",
    "\n",
    "print(new_text)\n",
    "\n",
    "\n"
   ]
  },
  {
   "cell_type": "markdown",
   "metadata": {
    "tags": [
     "parameters"
    ]
   },
   "source": [
    "4.\tCreate a program that will serve as a class database and will allow users to add names and scores to the database. For each name and score that is added, print the dictionary database for the user.\n",
    "Further Work:\n",
    "    1.\tAdd an improvement to subtract scores from a given user.\n",
    "    2.\tAdd an improvement to save the database to a local file.\n"
   ]
  },
  {
   "cell_type": "code",
   "execution_count": 342,
   "metadata": {},
   "outputs": [
    {
     "name": "stdout",
     "output_type": "stream",
     "text": [
      "3.10.4 (tags/v3.10.4:9d38120, Mar 23 2022, 23:13:41) [MSC v.1929 64 bit (AMD64)]\n"
     ]
    }
   ],
   "source": [
    "database = {}\n",
    "def add_to_database(name, score):\n",
    "    database[name] = score\n",
    "    return database\n",
    "\n",
    "def substract_score(name, score):\n",
    "    if name in database.keys():\n",
    "        database[name] = database[name] - score\n",
    "    else: \n",
    "        print(\"There is not \",name,\" in database\")\n",
    "        return\n",
    "    return database\n",
    "\n",
    "def save_to_file(path, name_of_file, db):\n",
    "    with open(path + \"/\" + name_of_file, \"w\", encoding = \"utf-8\") as f:\n",
    "        f.write(str(db))\n",
    "\n",
    "add_to_database(\"Milena\", 21)\n",
    "add_to_database(\"Alex\", 5)\n",
    "substract_score(\"Alex\",1)\n",
    "substract_score(\"Milena\",1)\n",
    "\n",
    "\n",
    "save_to_file(\"C:/Users/minic/OneDrive/Радна површина/HI\",\"baza.txt\", database)"
   ]
  },
  {
   "cell_type": "markdown",
   "metadata": {
    "tags": [
     "parameters"
    ]
   },
   "source": [
    "5.\tA prime number is an integer greater than 1 that is only divisible by one and itself. Write a function that determines whether or not its parameter is prime, returning True if it is and False otherwise. Write a main program that reads an integer from the user and displays a message indicating whether or not it is a prime. Ensure tht the main program will not run if the file containing your solution is imported into another program."
   ]
  },
  {
   "cell_type": "code",
   "execution_count": null,
   "metadata": {},
   "outputs": [
    {
     "name": "stdout",
     "output_type": "stream",
     "text": [
      "The number 30 is not prime\n"
     ]
    }
   ],
   "source": [
    "def check_prime_number(number):\n",
    "    if number>=1:\n",
    "        for i in range (2,number):\n",
    "            if number%i==0:\n",
    "                return False\n",
    "            else:\n",
    "                return True    \n",
    "        \n",
    "\n",
    "def main():\n",
    "    number=int(input(\"Please, enter an integer:\"))\n",
    "    if check_prime_number(number):\n",
    "        print(\"The number\",number, \"is prime\") \n",
    "    else:\n",
    "        print(\"The number\",number, \"is not prime\")\n",
    "\n",
    "main()                               "
   ]
  }
 ],
 "metadata": {
  "kernelspec": {
   "display_name": "Python 3.10.4 64-bit",
   "language": "python",
   "name": "python3"
  },
  "language_info": {
   "codemirror_mode": {
    "name": "ipython",
    "version": 3
   },
   "file_extension": ".py",
   "mimetype": "text/x-python",
   "name": "python",
   "nbconvert_exporter": "python",
   "pygments_lexer": "ipython3",
   "version": "3.10.4"
  },
  "orig_nbformat": 4,
  "vscode": {
   "interpreter": {
    "hash": "27aa3604d76da265d88562b1df6f81676925551089475ab1c18a6d80ffb5179c"
   }
  }
 },
 "nbformat": 4,
 "nbformat_minor": 2
}
