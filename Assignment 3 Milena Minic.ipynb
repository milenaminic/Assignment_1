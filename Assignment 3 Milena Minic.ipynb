{
 "cells": [
  {
   "cell_type": "markdown",
   "metadata": {
    "tags": [
     "parameters"
    ]
   },
   "source": [
    "1. Write a program that reads an integer from the user. Then your program should\n",
    "display a message indicating whether the integer is even or odd and if the number is a prime or a non-prime."
   ]
  },
  {
   "cell_type": "code",
   "execution_count": 37,
   "metadata": {},
   "outputs": [
    {
     "name": "stdout",
     "output_type": "stream",
     "text": [
      "The number 15 is odd\n",
      "The number 15 is non-prime\n"
     ]
    }
   ],
   "source": [
    "number= int(input(\"Enter the number:\"))\n",
    "\n",
    "if number%2==0:\n",
    "    print (\"The number\",number,\" is even\")\n",
    "else:\n",
    "    print(\"The number\",number, \"is odd\")\n",
    "\n",
    "if number>=1:\n",
    "    for divisor in range (2, number):\n",
    "        if number%divisor==0:\n",
    "            print(\"The number\", number, \"is non-prime\")\n",
    "            break\n",
    "    else:\n",
    "        print(\"The number is prime\")"
   ]
  },
  {
   "cell_type": "markdown",
   "metadata": {
    "tags": [
     "parameters"
    ]
   },
   "source": [
    "2. A univariate quadratic function has the form $f(x)=ax^2+bx+c$, where a, b and\n",
    "c are constants, and a is non-zero. The roots of a quadratic function can be found\n",
    "by finding the values of x that satisfy the quadratic equation $ax^2 +bx+c=0$. A\n",
    "quadratic function may have 0, 1, or 2 real roots. These roots can be computed using\n",
    "the quadratic formula, shown below:\n",
    "    \n",
    "    $\\boxed{root = \\frac {-b \\pm \\sqrt {b^2 - 4ac}} {2a} }$\n",
    "    The portion of the expression under the square root sign is called the discriminant.\n",
    "    If the discriminant is negative then the quadratic equation does not have any real roots.\n",
    "    If the discriminant is 0, then the equation has one real root. Otherwise, the equation\n",
    "    has two real roots, and the expression must be evaluated twice, once using a plus\n",
    "    sign, and once using a minus sign, when computing the numerator.\n",
    "    Write a program that computes the real roots of a quadratic function. Your program\n",
    "    should begin by prompting the user for the values of a, b and c. Then it should display\n",
    "    a message indicating the number of real roots, along with the values of the real roots\n",
    "    (if any).\n",
    "    "
   ]
  },
  {
   "cell_type": "code",
   "execution_count": 39,
   "metadata": {},
   "outputs": [
    {
     "name": "stdout",
     "output_type": "stream",
     "text": [
      "The equation has two real roots -1.4384471871911697 and -5.561552812808831\n"
     ]
    }
   ],
   "source": [
    "import math\n",
    "a=float(input(\"Please, enter a constant a\"))\n",
    "b=float(input(\"Please, enter a constant b\"))\n",
    "c=float(input(\"Please, enter a constant c\"))\n",
    "discriminat= b**2 - 4*a*c\n",
    "\n",
    "while True:\n",
    "    if a==0:\n",
    "        print (\"The constant a can't be zero, try again\")   \n",
    "        break\n",
    "    else:\n",
    "        if discriminat<0:\n",
    "            print (\"The equation has not real root\")\n",
    "        elif discriminat==0:\n",
    "            root= - b / 2*a\n",
    "            print(\"The equation has one real root:\", root )\n",
    "        else: \n",
    "            discriminat>0\n",
    "            root1 = (- b + math.sqrt(b**2 - 4*a*c)) / (2 * a)\n",
    "            root2 = (- b - math.sqrt(b**2 - 4*a*c)) / (2 * a)\n",
    "            print(\"The equation has two real roots\", root1,\"and\", root2)      \n",
    "            break"
   ]
  },
  {
   "cell_type": "markdown",
   "metadata": {
    "tags": [
     "parameters"
    ]
   },
   "source": [
    "3. In this exercise, you will create a program that computes the average of a collection\n",
    "of values entered by the user. The user will enter 0 as a sentinel value to indicate\n",
    "that no further values will be provided. Your program should display an appropriate\n",
    "error message if the first value entered by the user is 0."
   ]
  },
  {
   "cell_type": "code",
   "execution_count": 75,
   "metadata": {},
   "outputs": [
    {
     "name": "stdout",
     "output_type": "stream",
     "text": [
      "The average of values is: 4.0\n"
     ]
    }
   ],
   "source": [
    "sum=0\n",
    "count=0\n",
    "while True:\n",
    "    user_input=int(input(\"Enter a number: \"))\n",
    "    count+=1\n",
    "    if user_input == 0 and count == 1:\n",
    "        print(\"Cannot input 0 as a first value\")\n",
    "        break\n",
    "    elif user_input != 0:\n",
    "        sum += user_input\n",
    "    elif user_input == 0:\n",
    "        print(\"The average of values is:\", sum/(count-1))\n",
    "        break\n"
   ]
  },
  {
   "cell_type": "code",
   "execution_count": 72,
   "metadata": {},
   "outputs": [
    {
     "name": "stdout",
     "output_type": "stream",
     "text": [
      "Cannot input 0 as a first value\n"
     ]
    }
   ],
   "source": [
    "mylist=[]\n",
    "while True:\n",
    "    user_input=int(input(\"Enter a number: \"))\n",
    "    if user_input == 0 and len(mylist) == 0:\n",
    "        print(\"Cannot input 0 as a first value\")\n",
    "        break\n",
    "    elif user_input!=0:\n",
    "        mylist.append(user_input)\n",
    "    elif user_input==0:\n",
    "        print(\"The average of values is:\",sum(mylist)/len(mylist))\n",
    "        break  \n",
    "\n"
   ]
  },
  {
   "cell_type": "markdown",
   "metadata": {
    "tags": [
     "parameters"
    ]
   },
   "source": [
    "4. Write a program that displays a temperature conversion table for degrees Celsius and\n",
    "degrees Fahrenheit. The table should include rows for all temperatures between 0\n",
    "and 100 degrees Celsius which are multiples of 10 degrees Celsius. Include appropriate\n",
    "headings on your columns. The formula for converting between degrees Celsius and\n",
    "degrees Fahrenheit can be found on the internet."
   ]
  },
  {
   "cell_type": "code",
   "execution_count": 13,
   "metadata": {},
   "outputs": [
    {
     "data": {
      "text/html": [
       "<div>\n",
       "<style scoped>\n",
       "    .dataframe tbody tr th:only-of-type {\n",
       "        vertical-align: middle;\n",
       "    }\n",
       "\n",
       "    .dataframe tbody tr th {\n",
       "        vertical-align: top;\n",
       "    }\n",
       "\n",
       "    .dataframe thead th {\n",
       "        text-align: right;\n",
       "    }\n",
       "</style>\n",
       "<table border=\"1\" class=\"dataframe\">\n",
       "  <thead>\n",
       "    <tr style=\"text-align: right;\">\n",
       "      <th></th>\n",
       "      <th>c</th>\n",
       "      <th>f</th>\n",
       "    </tr>\n",
       "  </thead>\n",
       "  <tbody>\n",
       "    <tr>\n",
       "      <th>0</th>\n",
       "      <td>0</td>\n",
       "      <td>32.0</td>\n",
       "    </tr>\n",
       "    <tr>\n",
       "      <th>1</th>\n",
       "      <td>10</td>\n",
       "      <td>50.0</td>\n",
       "    </tr>\n",
       "    <tr>\n",
       "      <th>2</th>\n",
       "      <td>20</td>\n",
       "      <td>68.0</td>\n",
       "    </tr>\n",
       "    <tr>\n",
       "      <th>3</th>\n",
       "      <td>30</td>\n",
       "      <td>86.0</td>\n",
       "    </tr>\n",
       "    <tr>\n",
       "      <th>4</th>\n",
       "      <td>40</td>\n",
       "      <td>104.0</td>\n",
       "    </tr>\n",
       "    <tr>\n",
       "      <th>5</th>\n",
       "      <td>50</td>\n",
       "      <td>122.0</td>\n",
       "    </tr>\n",
       "    <tr>\n",
       "      <th>6</th>\n",
       "      <td>60</td>\n",
       "      <td>140.0</td>\n",
       "    </tr>\n",
       "    <tr>\n",
       "      <th>7</th>\n",
       "      <td>70</td>\n",
       "      <td>158.0</td>\n",
       "    </tr>\n",
       "    <tr>\n",
       "      <th>8</th>\n",
       "      <td>80</td>\n",
       "      <td>176.0</td>\n",
       "    </tr>\n",
       "    <tr>\n",
       "      <th>9</th>\n",
       "      <td>90</td>\n",
       "      <td>194.0</td>\n",
       "    </tr>\n",
       "    <tr>\n",
       "      <th>10</th>\n",
       "      <td>100</td>\n",
       "      <td>212.0</td>\n",
       "    </tr>\n",
       "  </tbody>\n",
       "</table>\n",
       "</div>"
      ],
      "text/plain": [
       "      c      f\n",
       "0     0   32.0\n",
       "1    10   50.0\n",
       "2    20   68.0\n",
       "3    30   86.0\n",
       "4    40  104.0\n",
       "5    50  122.0\n",
       "6    60  140.0\n",
       "7    70  158.0\n",
       "8    80  176.0\n",
       "9    90  194.0\n",
       "10  100  212.0"
      ]
     },
     "execution_count": 13,
     "metadata": {},
     "output_type": "execute_result"
    }
   ],
   "source": [
    "import numpy as np\n",
    "import pandas as pd\n",
    "c= np.arange(0, 110, 10)  #Celsius\n",
    "f= (c*9/5) + 32 #Fahrenheit\n",
    "\n",
    "dict={\"c\":c, \"f\":f}\n",
    "pd.DataFrame(data=({\"c\":c, \"f\":f}))\n",
    "\n",
    "\n",
    "\n",
    "\n",
    "\n",
    "\n"
   ]
  },
  {
   "cell_type": "code",
   "execution_count": 26,
   "metadata": {},
   "outputs": [
    {
     "name": "stdout",
     "output_type": "stream",
     "text": [
      "╒═══════════╤══════════════╕\n",
      "│   Celsius │   Fahrenheit │\n",
      "╞═══════════╪══════════════╡\n",
      "│         0 │           32 │\n",
      "├───────────┼──────────────┤\n",
      "│        10 │           50 │\n",
      "├───────────┼──────────────┤\n",
      "│        20 │           68 │\n",
      "├───────────┼──────────────┤\n",
      "│        30 │           86 │\n",
      "├───────────┼──────────────┤\n",
      "│        40 │          104 │\n",
      "├───────────┼──────────────┤\n",
      "│        50 │          122 │\n",
      "├───────────┼──────────────┤\n",
      "│        60 │          140 │\n",
      "├───────────┼──────────────┤\n",
      "│        70 │          158 │\n",
      "├───────────┼──────────────┤\n",
      "│        80 │          176 │\n",
      "├───────────┼──────────────┤\n",
      "│        90 │          194 │\n",
      "├───────────┼──────────────┤\n",
      "│       100 │          212 │\n",
      "╘═══════════╧══════════════╛\n"
     ]
    }
   ],
   "source": [
    "import numpy as np\n",
    "from tabulate import tabulate as t\n",
    "mylist=[]\n",
    "final_list=[]\n",
    "c_array= np.arange(0, 110, 10) \n",
    "f_array= (c*9/5) + 32\n",
    "c_list=list(c_array)\n",
    "f_list=list(f_array)\n",
    "mylist=list(zip(c_list,f_list))\n",
    "for i in mylist:\n",
    "    final_list.append(list(i))\n",
    "col_names= [\"Celsius\", \"Fahrenheit\"]\n",
    "print(t(final_list, headers=col_names, tablefmt=\"fancy_grid\"))\n",
    "\n"
   ]
  },
  {
   "cell_type": "markdown",
   "metadata": {
    "tags": [
     "parameters"
    ]
   },
   "source": [
    "5. A particular zoo determines the price of admission based on the age of the guest.\n",
    "Guests 2 years of age and less are admitted without charge. Children between 3 and\n",
    "12 years of age cost $14.00. Seniors aged 65 years and over cost $18.00. Admission\n",
    "for all other guests is $23.00.\n",
    "Create a program that begins by reading the ages of all of the guests in a group\n",
    "from the user, with one age entered on each line. The user will enter a blank line to\n",
    "indicate that there are no more guests in the group. Then your program should display\n",
    "the admission cost for the group with an appropriate message. The cost should be\n",
    "displayed using two decimal places."
   ]
  },
  {
   "cell_type": "code",
   "execution_count": 33,
   "metadata": {},
   "outputs": [
    {
     "name": "stdout",
     "output_type": "stream",
     "text": [
      "group     number    price pu      total price\n",
      "--------  --------  ----------  -------------\n",
      "babies    0         0                       0\n",
      "children  4         14.0                   56\n",
      "adults    0         23.0                    0\n",
      "seniors   0         18.0                    0\n",
      "                    TOTAL                  56\n"
     ]
    }
   ],
   "source": [
    "from tabulate import tabulate as t\n",
    "import numpy as np\n",
    "dict_guests={\"babies\":0, \"children\":0, \"adults\":0, \"seniors\":0}\n",
    "dist_charges={\"babies\":0, \"children\":14.00, \"adults\":23.00, \"seniors\":18.00}\n",
    "babylist = [0,1,2]\n",
    "children = [3, 4, 5, 6, 7, 8, 9, 10, 11, 12]\n",
    "adults = np.arange(13, 66)\n",
    "sum = 0\n",
    "while True:\n",
    "    user_input = input(\"Enter age please: \")      \n",
    "    if user_input != \"\":\n",
    "        user_input_int = int(user_input)\n",
    "        if user_input_int < 0:\n",
    "            print(\"Must be bigger than 0\")\n",
    "            continue\n",
    "        if user_input_int in babylist:\n",
    "            dict_guests[\"babies\"]+=1\n",
    "        elif user_input_int in children:\n",
    "            dict_guests[\"children\"]+=1\n",
    "        elif user_input_int in adults:\n",
    "            dict_guests[\"adults\"]+=1\n",
    "        else:\n",
    "            dict_guests[\"seniors\"] += 1\n",
    "    else:\n",
    "        for key in dict_guests:\n",
    "            sum+= dict_guests[key]*dist_charges[key]\n",
    "        list = [[\"babies\", dict_guests[\"babies\"], dist_charges[\"babies\"], dict_guests[\"babies\"]* dist_charges[\"babies\"]] ,[\"children\",dict_guests[\"children\"], dist_charges[\"children\"], dict_guests[\"children\"]* dist_charges[\"children\"]], [\"adults\",dict_guests[\"adults\"], dist_charges[\"adults\"], dict_guests[\"adults\"]* dist_charges[\"adults\"]], [\"seniors\",dict_guests[\"seniors\"], dist_charges[\"seniors\"], dict_guests[\"seniors\"]* dist_charges[\"seniors\"]],[\"\",\"\",\"TOTAL\",str(sum)]]\n",
    "        print(t(list, headers=[\"group\", \"number\", \"price pu\", \"total price\"]))\n",
    "        break\n"
   ]
  },
  {
   "cell_type": "markdown",
   "metadata": {
    "tags": [
     "parameters"
    ]
   },
   "source": [
    "6. Write a function that takes the lengths of the two shorter sides of a right triangle as\n",
    "its parameters. Return the hypotenuse of the triangle, computed using the Pythagorean\n",
    "theorem, as the function’s result. Include inputs that read the lengths of\n",
    "the shorter sides of a right triangle from the user, use your function to compute the\n",
    "length of the hypotenuse, and display the result."
   ]
  },
  {
   "cell_type": "code",
   "execution_count": 44,
   "metadata": {},
   "outputs": [
    {
     "name": "stdout",
     "output_type": "stream",
     "text": [
      "The lengh of hypotenuse is: 10.63014581273465\n"
     ]
    }
   ],
   "source": [
    "import math\n",
    "a=float(input(\"Enter a length of one of the shorter sides of a right triangle:\"))\n",
    "b=float(input(\"Enter a length of second shorter sides of a right triangle:\"))\n",
    "\n",
    "def calculateHypotenuse (a, b):\n",
    "    if a!=0 and b!=0:\n",
    "        c=math.sqrt(a**2 + b**2)\n",
    "        print(\"The lengh of hypotenuse is:\", c)\n",
    "    else:\n",
    "        print(\"the lengh of side can't be zero! Try again!\")    \n",
    "\n",
    "calculateHypotenuse(a,b)    "
   ]
  },
  {
   "cell_type": "markdown",
   "metadata": {
    "tags": [
     "parameters"
    ]
   },
   "source": [
    "7. An online retailer provides express shipping for many of its items at a rate of $10.95\n",
    "for the first item, and $2.95 for each subsequent item. Write a function that takes the\n",
    "number of items in the order as its only parameter. Return the shipping charge for\n",
    "the order as the function’s result. Include user inputs that read the number of\n",
    "items purchased from the user and display the shipping charge."
   ]
  },
  {
   "cell_type": "code",
   "execution_count": 60,
   "metadata": {},
   "outputs": [
    {
     "data": {
      "text/plain": [
       "'The shipping charge is: 297.1'"
      ]
     },
     "execution_count": 60,
     "metadata": {},
     "output_type": "execute_result"
    }
   ],
   "source": [
    "user_input= int(input(\"Please, enter the number of items purchased: \"))\n",
    "charge=0\n",
    "def shipping (user_input):\n",
    "    if user_input==1:\n",
    "        charge=10.95\n",
    "    else:\n",
    "        charge=10.95 + (user_input-1)*2.95    \n",
    "    return f\"The shipping charge is: {charge}\"\n",
    "\n",
    "shipping (user_input)    "
   ]
  },
  {
   "cell_type": "markdown",
   "metadata": {
    "tags": [
     "parameters"
    ]
   },
   "source": [
    "8. In this exercise, you will write a function that determines whether or not a password\n",
    "is good. We will define a good password to be one that is at least 8 characters\n",
    "long and contains at least one uppercase letter, at least one lowercase letter, and at\n",
    "least one number. Your function should return true if the password passed to it as\n",
    "its only parameter is good. Otherwise, it should return false. "
   ]
  },
  {
   "cell_type": "code",
   "execution_count": 66,
   "metadata": {},
   "outputs": [
    {
     "data": {
      "text/plain": [
       "True"
      ]
     },
     "execution_count": 66,
     "metadata": {},
     "output_type": "execute_result"
    }
   ],
   "source": [
    "\n",
    "def checkPassword (password):\n",
    "    digit=0\n",
    "    upper=0\n",
    "    lower=0\n",
    "    if len(password)>=8:\n",
    "        for ch in password:\n",
    "            if ch.isdigit():\n",
    "                digit+=1\n",
    "            if ch.isupper():\n",
    "                upper+=1\n",
    "            if ch.islower():\n",
    "                lower+=1\n",
    "\n",
    "        if digit>=1 and upper>=1 and lower>=1:\n",
    "            return True\n",
    "        else:\n",
    "            return False\n",
    "    else:\n",
    "        return False\n",
    "checkPassword(\"Mijjjjl08\")           \n"
   ]
  }
 ],
 "metadata": {
  "kernelspec": {
   "display_name": "Python 3.10.4 64-bit",
   "language": "python",
   "name": "python3"
  },
  "language_info": {
   "codemirror_mode": {
    "name": "ipython",
    "version": 3
   },
   "file_extension": ".py",
   "mimetype": "text/x-python",
   "name": "python",
   "nbconvert_exporter": "python",
   "pygments_lexer": "ipython3",
   "version": "3.10.4"
  },
  "orig_nbformat": 4,
  "vscode": {
   "interpreter": {
    "hash": "27aa3604d76da265d88562b1df6f81676925551089475ab1c18a6d80ffb5179c"
   }
  }
 },
 "nbformat": 4,
 "nbformat_minor": 2
}
